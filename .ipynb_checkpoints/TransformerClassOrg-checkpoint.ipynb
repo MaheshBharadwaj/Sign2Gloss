{
 "cells": [
  {
   "cell_type": "code",
   "execution_count": null,
   "metadata": {},
   "outputs": [],
   "source": [
    "mport gc\n",
    "import math\n",
    "import matplotlib.pyplot as plt\n",
    "import numpy as np\n",
    "import os\n",
    "from PIL import Image\n",
    "import pandas as pd\n",
    "import spacy\n",
    "from sklearn.model_selection import train_test_split\n",
    "import torch\n",
    "import torch.cuda\n",
    "import torch.nn as nn\n",
    "import torch.nn.functional as F\n",
    "from torch.nn import TransformerEncoder, TransformerEncoderLayer, TransformerDecoder, TransformerDecoderLayer\n",
    "from tqdm import tqdm\n",
    "import torchvision.models as models\n",
    "from torchvision.transforms import transforms as T\n",
    "from torch.utils.data import Dataset, DataLoader\n",
    "from torchsummary import summary\n",
    "import time\n",
    "from datetime import datetime"
   ]
  },
  {
   "cell_type": "code",
   "execution_count": null,
   "metadata": {},
   "outputs": [],
   "source": [
    "device = torch.device('cuda' if torch.cuda.is_available() else 'cpu')"
   ]
  },
  {
   "cell_type": "markdown",
   "metadata": {},
   "source": [
    "## Dataset Loading"
   ]
  },
  {
   "cell_type": "code",
   "execution_count": null,
   "metadata": {},
   "outputs": [],
   "source": [
    "path = '../PHOENIX-2014-T-release-v3/PHOENIX-2014-T/annotations/manual/PHOENIX-2014-T.train-complex-annotation.corpus.csv'\n",
    "dataframe = pd.read_csv(path, sep='|')\n",
    "\n",
    "# Removing start and end columns\n",
    "dataframe.drop(columns=['start', 'end'], inplace=True)\n",
    "\n",
    "# Working on signer 1 alone\n",
    "signer1_dataframe = dataframe[dataframe['speaker']=='Signer01']\n",
    "\n",
    "signer1_dataframe.shape"
   ]
  },
  {
   "cell_type": "markdown",
   "metadata": {},
   "source": [
    "## Analysing Dataset"
   ]
  },
  {
   "cell_type": "code",
   "execution_count": null,
   "metadata": {},
   "outputs": [],
   "source": [
    "if False:\n",
    "    m = 0\n",
    "    max_folder = ''\n",
    "    list_folders = []\n",
    "    list_len = []\n",
    "\n",
    "    for folder in os.listdir('../PHOENIX-2014-T-release-v3/PHOENIX-2014-T/features/fullFrame-210x260px/train/'):\n",
    "        l = len(os.listdir('../PHOENIX-2014-T-release-v3/PHOENIX-2014-T/features/fullFrame-210x260px/train/' + folder))\n",
    "        list_folders.append(folder)\n",
    "        list_len.append(l)\n",
    "\n",
    "    temp_df = pd.DataFrame(list(zip(list_folders, list_len)), columns=['Folder', 'No. of images'])\n",
    "    \n",
    "    plt.hist(temp_df['No. of images'], bins=100)\n",
    "    plt.show()"
   ]
  },
  {
   "cell_type": "markdown",
   "metadata": {},
   "source": [
    "## Tokenizing"
   ]
  },
  {
   "cell_type": "code",
   "execution_count": null,
   "metadata": {},
   "outputs": [],
   "source": [
    "from torchnlp.encoders.text import StaticTokenizerEncoder, SpacyEncoder, pad_tensor\n",
    "loaded_data = np.array(signer1_dataframe['orth'])\n",
    "encoder = StaticTokenizerEncoder(loaded_data, tokenize=lambda s: s.split(), append_eos=True)\n",
    "\n",
    "encoded_data = [encoder.encode(example) for example in loaded_data]\n",
    "encoded_data = [pad_tensor(x, length=35) for x in encoded_data]\n",
    "\n",
    "example_encode = encoder.encode(loaded_data[1])\n",
    "example_pad = pad_tensor(example_encode, length=35)\n",
    "\n",
    "print('actual: ', loaded_data[1])\n",
    "print('encoded: ',example_pad)\n",
    "print('decoded: ', encoder.decode(example_pad))"
   ]
  },
  {
   "cell_type": "markdown",
   "metadata": {},
   "source": [
    "## Transforms"
   ]
  },
  {
   "cell_type": "code",
   "execution_count": null,
   "metadata": {},
   "outputs": [],
   "source": [
    "normalize = T.Normalize(mean=[0.485, 0.456, 0.406], std=[0.229, 0.224, 0.225])\n",
    "transform = T.Compose([T.Resize(256), T.CenterCrop(224), T.ToTensor(),normalize])"
   ]
  },
  {
   "cell_type": "markdown",
   "metadata": {},
   "source": [
    "## Filtering Sequences"
   ]
  },
  {
   "cell_type": "code",
   "execution_count": null,
   "metadata": {},
   "outputs": [],
   "source": [
    "x = []\n",
    "signer1_path = '../PHOENIX-2014-T-release-v3/PHOENIX-2014-T/features/fullFrame-210x260px/train/'\n",
    "signer1_main = signer1_dataframe.copy(deep=True)\n",
    "for folder in tqdm(signer1_main['name']):\n",
    "    sequence_length = len(os.listdir(signer1_path + folder))\n",
    "    \n",
    "    if sequence_length > 250 or sequence_length < 50:\n",
    "        signer1_dataframe = signer1_dataframe[signer1_dataframe['name']!=folder]\n",
    "\n",
    "signer1_train, signer1_test = train_test_split(signer1_dataframe, test_size=0.3, random_state=42)\n",
    "signer1_test, signer1_val = train_test_split(signer1_test, test_size=0.5, random_state=42)\n",
    "\n",
    "signer1_train.shape, signer1_test.shape, signer1_val.shape"
   ]
  },
  {
   "cell_type": "markdown",
   "metadata": {},
   "source": [
    "## Dataloader"
   ]
  },
  {
   "cell_type": "code",
   "execution_count": null,
   "metadata": {},
   "outputs": [],
   "source": [
    "class SLRT_Signer(Dataset):\n",
    "    \"\"\"SLRT dataset.\"\"\"\n",
    "\n",
    "    def __init__(self, data_frame, root_dir, transform, tokenizer):\n",
    "        self.images_frame = data_frame['name']\n",
    "        self.glosses = data_frame['orth']\n",
    "        self.root_dir = root_dir\n",
    "        self.transform = transform\n",
    "        self.tokenizer = tokenizer\n",
    "\n",
    "    def __len__(self):\n",
    "        return len(self.images_frame)\n",
    "\n",
    "    def __getitem__(self, idx):\n",
    "        global device\n",
    "        if torch.is_tensor(idx):\n",
    "            idx = idx.tolist()\n",
    "        training_example = torch.zeros(250, 3, 224, 224)\n",
    "        for files in os.listdir(os.path.join(self.root_dir, self.images_frame.iloc[idx])):\n",
    "            img_name = self.root_dir + self.images_frame.iloc[idx] + '/' + files\n",
    "            image = Image.open(img_name)\n",
    "            image = self.transform(image)\n",
    "            training_example[0:len(files), :] = image\n",
    "\n",
    "        gloss = self.glosses.iloc[idx]\n",
    "        encoded_gloss = self.tokenizer.encode(gloss)\n",
    "        encoded_gloss = pad_tensor(encoded_gloss, 250)\n",
    "        \n",
    "        return training_example, encoded_gloss\n"
   ]
  },
  {
   "cell_type": "code",
   "execution_count": null,
   "metadata": {},
   "outputs": [],
   "source": [
    "signer1_train_dataset = SLRT_Signer(signer1_train,\n",
    "                   root_dir='../PHOENIX-2014-T-release-v3/PHOENIX-2014-T/features/fullFrame-210x260px/train/',\n",
    "                   transform=transform,\n",
    "                   tokenizer=encoder\n",
    "                   )\n",
    "                  \n",
    "signer1_test_dataset = SLRT_Signer(signer1_test,\n",
    "                   root_dir='../PHOENIX-2014-T-release-v3/PHOENIX-2014-T/features/fullFrame-210x260px/train/',\n",
    "                   transform=transform,\n",
    "                   tokenizer=encoder\n",
    "                   )\n",
    "\n",
    "signer1_val_dataset = SLRT_Signer(signer1_val,\n",
    "                   root_dir='../PHOENIX-2014-T-release-v3/PHOENIX-2014-T/features/fullFrame-210x260px/train/',\n",
    "                   transform=transform,\n",
    "                   tokenizer=encoder\n",
    "                  )"
   ]
  },
  {
   "cell_type": "code",
   "execution_count": null,
   "metadata": {},
   "outputs": [],
   "source": [
    "params = {\n",
    "    'batch_size': 12,\n",
    "    'shuffle': True,\n",
    "    'num_workers': 0\n",
    "}\n",
    "max_epochs = 100"
   ]
  },
  {
   "cell_type": "code",
   "execution_count": null,
   "metadata": {},
   "outputs": [],
   "source": [
    "train_gen = DataLoader(signer1_train_dataset, **params)\n",
    "test_gen = DataLoader(signer1_test_dataset, **params)\n",
    "val_gen = DataLoader(signer1_val_dataset, **params)"
   ]
  },
  {
   "cell_type": "markdown",
   "metadata": {},
   "source": [
    "## Squeeze Net"
   ]
  },
  {
   "cell_type": "code",
   "execution_count": null,
   "metadata": {},
   "outputs": [],
   "source": [
    "class SqueezeNet(nn.Module):\n",
    "    \n",
    "    def __init__(self, pre_train=False):\n",
    "        super(SqueezeNet, self).__init__()\n",
    "        \n",
    "        self.model = torch.hub.load('pytorch/vision:v0.6.0', 'squeezenet1_1', pretrained=True)\n",
    "        \n",
    "        if pre_train == True:\n",
    "            for param in self.model.parameters():\n",
    "                param.requires_grad = False\n",
    "            self.model.eval()\n",
    "        \n",
    "        children = [child for child in self.model.children()]    \n",
    "        for child in children[0][:-5]:\n",
    "            for param in child.parameters():\n",
    "                param.requires_grad = False\n",
    "        \n",
    "                \n",
    "        self.fc1 = nn.Linear(1000, 512)\n",
    "        \n",
    "    def forward(self, src):\n",
    "        \n",
    "        output = self.model(src)\n",
    "        output = self.fc1(output)\n",
    "        output = F.relu(output)\n",
    "#         output = output.to(torch.device('cpu'))\n",
    "        return output\n",
    "        \n"
   ]
  },
  {
   "cell_type": "code",
   "execution_count": null,
   "metadata": {},
   "outputs": [],
   "source": [
    "# ### Testing Squeezenet\n",
    "\n",
    "# path=r'../PHOENIX-2014-T-release-v3/PHOENIX-2014-T/features/fullFrame-210x260px/train/01April_2010_Thursday_heute-6694/images0010.png'\n",
    "\n",
    "# squeeze_model = SqueezeNet().to(device)\n",
    "# summary(squeeze_model, (3, 224, 224))"
   ]
  },
  {
   "cell_type": "code",
   "execution_count": null,
   "metadata": {},
   "outputs": [],
   "source": [
    "# image = Image.open(path)\n",
    "# image = transform(image)\n",
    "# image = image.unsqueeze(0).to(device)\n",
    "\n",
    "\n",
    "# output = squeeze_model(image)\n",
    "# output.shape"
   ]
  },
  {
   "cell_type": "markdown",
   "metadata": {},
   "source": [
    "## Positional Encoding"
   ]
  },
  {
   "cell_type": "code",
   "execution_count": null,
   "metadata": {},
   "outputs": [],
   "source": [
    "class PositionalEncoding(nn.Module):\n",
    "\n",
    "    def __init__(self, d_model, dropout=0.1, max_len=5000):\n",
    "        super(PositionalEncoding, self).__init__()\n",
    "        self.dropout = nn.Dropout(p=dropout)\n",
    "\n",
    "        pe = torch.zeros(max_len, d_model)\n",
    "        position = torch.arange(0, max_len, dtype=torch.float).unsqueeze(1)\n",
    "        div_term = torch.exp(torch.arange(0, d_model, 2).float() * (-math.log(10000.0) / d_model))\n",
    "        pe[:, 0::2] = torch.sin(position * div_term)\n",
    "        pe[:, 1::2] = torch.cos(position * div_term)\n",
    "        pe = pe.unsqueeze(0).transpose(0, 1)\n",
    "        self.register_buffer('pe', pe)\n",
    "\n",
    "    def forward(self, x):\n",
    "        x = x + self.pe[:x.size(0), :]\n",
    "        return self.dropout(x)"
   ]
  },
  {
   "cell_type": "markdown",
   "metadata": {},
   "source": [
    "## Transformer User Defined"
   ]
  },
  {
   "cell_type": "code",
   "execution_count": null,
   "metadata": {},
   "outputs": [],
   "source": [
    "# class TransformerModel(nn.Module):\n",
    "\n",
    "#     def __init__(self, ntoken, ninp, nhead, nhid, nlayers, dropout=0.5):\n",
    "#         super(TransformerModel, self).__init__()\n",
    "#         self.model_type = 'Transformer'\n",
    "#         self.src_mask = None\n",
    "#         self.tgt_mask = None\n",
    "#         self.nopeakmask = None\n",
    "#         self.pos_encoder = PositionalEncoding(ninp, dropout).to(device)\n",
    "#         encoder_layers = TransformerEncoderLayer(ninp, nhead, nhid, dropout)\n",
    "#         decoder_layers = TransformerDecoderLayer(ninp, nhead, nhid, dropout)\n",
    "#         self.transformer_encoder = TransformerEncoder(encoder_layers, nlayers)\n",
    "#         self.transformer_decoder = TransformerDecoder(decoder_layers, nlayers)\n",
    "#         #self.encoder = nn.Embedding(ntoken, ninp)\n",
    "#         self.decoder_embedding = nn.Embedding(ntoken, ninp)\n",
    "#         self.ninp = ninp\n",
    "#         self.decoder = nn.Linear(ninp, ntoken)\n",
    "#         #self.softmax = nn.Softmax(1)\n",
    "        \n",
    "#         #self.init_weights()\n",
    "\n",
    "#     def _generate_square_subsequent_mask(self, src, trt, sz):\n",
    "#         mask = (torch.triu(torch.ones(250, 250)) == 1).transpose(0, 1).half().to(device)\n",
    "#         nopeakmask = mask.float().masked_fill(mask == 0, float('-inf')).masked_fill(mask == 1, float(0.0)).half().to(device)\n",
    "#         zeros = torch.zeros(self.ninp).half().to(device)\n",
    "#         src_msk = (src == zeros).half().to(device)\n",
    "#         target_msk = (trt == 0).unsqueeze(0).half().to(device)\n",
    "#         return src_msk, target_msk, nopeakmask\n",
    "\n",
    "#     def init_weights(self):\n",
    "#         initrange = 0.1\n",
    "#         self.decoder.bias.data.zero_()\n",
    "#         self.decoder.weight.data.uniform_(-initrange, initrange)\n",
    "\n",
    "#     def forward(self, src, trt):\n",
    "# #         trt = trt.to(torch.device('cuda'))\n",
    "#         trt = trt.to(src.device)\n",
    "#         if self.src_mask is None or self.src_mask.size(0) != src.size(0):\n",
    "#             device = src.device\n",
    "#             src_mask, tgt_mask, self.nopeakmask = self._generate_square_subsequent_mask(src, trt, src.size(1))\n",
    "#             self.src_mask = src_mask\n",
    "#             #self.tgt_mask = tgt_mask\n",
    "#         #src = self.encoder(src) * math.sqrt(self.ninp)\n",
    "#         src = self.pos_encoder(src)\n",
    "# #         print (\"source\",src.shape)\n",
    "#         src = src.permute(1,0,2)\n",
    "# #         print (\"source\",src.shape)\n",
    "#         output = self.transformer_encoder(src)\n",
    "# #         trt = trt.to(torch.cuda.device('cpu'))\n",
    "# #         trt = torch.cuda.LongTensor(trt)\n",
    "#         trt = trt.type(torch.cuda.LongTensor)\n",
    "        \n",
    "#         trgt = self.decoder_embedding(trt)\n",
    "#         trgt = self.pos_encoder(trgt)\n",
    "#         trgt = trgt.permute(1,0,2)\n",
    "# #         trgt = trgt[:-1, :]\n",
    "# #         print (trgt.shape), print (output.shape)\n",
    "#         output = self.transformer_decoder(trgt, output, tgt_mask = self.nopeakmask) #tgt_key_padding_mask = tgt_mask)\n",
    "#         output = self.decoder(output)\n",
    "# #         print (output.shape)  shape: 250, batchsize, 719\n",
    "#         output = output.permute(1,2,0)\n",
    "#         #output = output.reshape(-1, output.shape[2])\n",
    "# #         output = self.softmax(output)\n",
    "#         return output"
   ]
  },
  {
   "cell_type": "markdown",
   "metadata": {},
   "source": [
    "## Transformer Orginal Class"
   ]
  },
  {
   "cell_type": "code",
   "execution_count": null,
   "metadata": {},
   "outputs": [],
   "source": []
  },
  {
   "cell_type": "code",
   "execution_count": null,
   "metadata": {},
   "outputs": [],
   "source": []
  },
  {
   "cell_type": "markdown",
   "metadata": {},
   "source": [
    "## Parameters"
   ]
  },
  {
   "cell_type": "code",
   "execution_count": null,
   "metadata": {},
   "outputs": [],
   "source": [
    "ntokens = len(encoder.vocab) # the size of vocabulary\n",
    "emsize = 512 # embedding dimension\n",
    "nhid = 1024 # the dimension of the feedforward network model in nn.TransformerEncoder\n",
    "nlayers = 4 # the number of nn.TransformerEncoderLayer in nn.TransformerEncoder\n",
    "nhead = 4 # the number of heads in the multiheadattention models\n",
    "dropout = 0.3 # the dropout value\n",
    "src_pad_index = 0"
   ]
  },
  {
   "cell_type": "markdown",
   "metadata": {},
   "source": [
    "## Sign2Gloss Class"
   ]
  },
  {
   "cell_type": "code",
   "execution_count": null,
   "metadata": {},
   "outputs": [],
   "source": [
    "class Sign2Gloss_Model(nn.Module):\n",
    "    def __init__(self, ntoken, ninp, nhead, nhid, nlayers, dropout=0.5):\n",
    "        super (Sign2Gloss_Model, self).__init__()\n",
    "        self.TransformerModel = TransformerModel(ntokens, ninp, nhead, nhid, nlayers, \\\n",
    "                                                 dropout).half()\n",
    "        self.SqueezeNet = SqueezeNet(pre_train=False).half().to(device)\n",
    "        self.softmax = nn.Softmax(2)\n",
    "        self.ninp = ninp\n",
    "    \n",
    "    def forward(self, src, trt):\n",
    "        batch_vector = torch.Tensor(src.shape[0], src.shape[1], self.ninp).half().to(device)\n",
    "        batch_batch_size = 32\n",
    "        for i in range (src.shape[0]):\n",
    "            for batch in range (0, 250, batch_batch_size):\n",
    "                inp = src[i, batch:batch+batch_batch_size].half().to(device)\n",
    "                transformer_source = self.SqueezeNet(inp)\n",
    "                batch_vector[i, batch:batch+batch_batch_size]=transformer_source\n",
    "                del transformer_source, inp\n",
    "                gc.collect\n",
    "#             batch_vector[i] = transformer_source \n",
    "#         batch_vector = batch_vector.half().to(device)\n",
    "        self.TransformerModel = self.TransformerModel.to(device)\n",
    "        output = self.TransformerModel(batch_vector, trt)\n",
    "        output = self.softmax(output)\n",
    "        del batch_vector\n",
    "        \n",
    "        return output"
   ]
  },
  {
   "cell_type": "code",
   "execution_count": null,
   "metadata": {},
   "outputs": [],
   "source": [
    "# eval_model  = TransformerModel(ntoken=ntokens, ninp=emsize, nhid=nhid, nhead=nhead, nlayers=nlayers, dropout=dropout).to(device)\n",
    "\n",
    "# summary(eval_model, [(-1,250, 512), (8, 250,)])"
   ]
  },
  {
   "cell_type": "markdown",
   "metadata": {},
   "source": [
    "## Training Loop"
   ]
  },
  {
   "cell_type": "code",
   "execution_count": null,
   "metadata": {},
   "outputs": [],
   "source": [
    "# #model training\n",
    "# model = Sign2Gloss_Model(ntoken = ntokens, ninp = emsize, nhid = nhid, nlayers = nlayers, nhead = nhead, dropout = dropout)\n",
    "# criterion = nn.CrossEntropyLoss(ignore_index = src_pad_index)\n",
    "# optimizer = torch.optim.SGD(model.parameters(), lr=0.01, momentum=0.9)\n",
    "#  # enumerate epochs\n",
    "# for epoch in tqdm(range(30)):\n",
    "# # enumerate mini batches\n",
    "#     epoch_loss = 0\n",
    "#     btch=1\n",
    "# #     print (\"Epoch: \", epoch, \"in progress...\")\n",
    "#     for (inputs, targets) in train_gen:\n",
    "#         print (btch, end=' ')\n",
    "# #         inputs, targets = inputs, targets\n",
    "#         # clear the gradients\n",
    "#         optimizer.zero_grad()\n",
    "#         # compute the model output\n",
    "#         yhat = model(inputs, targets)\n",
    "# #         model = model.to(device)\n",
    "#         yhat = yhat.to(torch.device('cpu'))\n",
    "#         yhat = yhat.type(torch.Tensor)\n",
    "#         targets = targets.type(torch.LongTensor)\n",
    "#         # calculate loss\n",
    "#         loss = criterion(yhat, targets)\n",
    "#         # credit assignment\n",
    "#         loss.backward()\n",
    "#         # update model weights\n",
    "#         optimizer.step()\n",
    "# #         model = model.to(torch.device('cpu'))\n",
    "#         epoch_loss += loss.item()\n",
    "#         torch.cuda.empty_cache()\n",
    "#         del inputs, targets\n",
    "#         gc.collect()\n",
    "#         btch+=1\n",
    "    \n",
    "#     torch.save({\n",
    "#     'epoch': epoch,\n",
    "#     'model_state_dict': model.state_dict(),\n",
    "#     'optimizer_state_dict': optimizer.state_dict(),\n",
    "#     'loss': 100\n",
    "#     }, 'squeezenetmode2.pt')\n",
    "    \n",
    "#     try:\n",
    "#         with open('SqueezeNet.txt', 'at') as file:\n",
    "#             now = datetime.now()\n",
    "#             current_time = now.strftime(\"%H:%M:%S\")\n",
    "#             file.write(\"Epoch {}, Logs:{}, Time: {}\\n\".format(epoch, epoch_loss, current_time))\n",
    "#     except:\n",
    "#         pass\n",
    "\n",
    "#     print (\"Epoch {} : {}\".format(epoch, epoch_loss))"
   ]
  },
  {
   "cell_type": "code",
   "execution_count": null,
   "metadata": {},
   "outputs": [],
   "source": [
    "# import torch\n",
    "# import gc\n",
    "# for obj in gc.get_objects():\n",
    "#     try:\n",
    "#         if torch.is_tensor(obj) or (hasattr(obj, 'data') and torch.is_tensor(obj.data)):\n",
    "#             print(type(obj), obj.size())\n",
    "#     except:\n",
    "#         pass\n"
   ]
  },
  {
   "cell_type": "code",
   "execution_count": null,
   "metadata": {},
   "outputs": [],
   "source": [
    "# torch.save({\n",
    "#             'epoch': 10,\n",
    "#             'model_state_dict': model.state_dict(),\n",
    "#             'optimizer_state_dict': optimizer.state_dict(),\n",
    "#             'loss': 100\n",
    "#             }, 'squeezenetmodel-2_backup.pt')"
   ]
  },
  {
   "cell_type": "markdown",
   "metadata": {},
   "source": []
  }
 ],
 "metadata": {
  "kernelspec": {
   "display_name": "Python [conda env:transformers]",
   "language": "python",
   "name": "conda-env-transformers-py"
  },
  "language_info": {
   "codemirror_mode": {
    "name": "ipython",
    "version": 3
   },
   "file_extension": ".py",
   "mimetype": "text/x-python",
   "name": "python",
   "nbconvert_exporter": "python",
   "pygments_lexer": "ipython3",
   "version": "3.7.5"
  }
 },
 "nbformat": 4,
 "nbformat_minor": 4
}
